{
 "cells": [
  {
   "cell_type": "markdown",
   "metadata": {},
   "source": [
    "## Lab 2. Bond-breaking in $H_2$"
   ]
  },
  {
   "cell_type": "markdown",
   "metadata": {},
   "source": [
    "In this lab, you will:\n",
    "* Investigate the bond-breaking reaction in $H_2$ molecule.\n",
    "* Compare the performance of restricted and unrestricted Hartree-Fock, and Density Functional Theory for bond breaking.\n",
    "* Benchmark these results with respect to the Full Configuration Interaction (FCI) values obtained using the coupled cluster with single and double excitations (CCSD) calculations, which give the exact answer for the two-electron system. \n",
    "* Calculate the correlation energy.\n",
    "* Distinguish from dynamic and static correlation\n",
    "\n",
    "Authors: Lyudmila Slipchenko (lslipchenko@purdue.edu; ORCID: 0000-0002-0445-2990) and Victor H. Chavez (gonza445@purdue.edu; ORCID: 0000-0003-3765-2961), \n"
   ]
  },
  {
   "cell_type": "markdown",
   "metadata": {},
   "source": [
    "***"
   ]
  },
  {
   "cell_type": "code",
   "execution_count": null,
   "metadata": {},
   "outputs": [],
   "source": [
    "#Import modules\n",
    "\n",
    "import psi4\n",
    "\n",
    "import numpy as np\n",
    "import pandas as pd\n",
    "import matplotlib.pyplot as plt"
   ]
  },
  {
   "cell_type": "markdown",
   "metadata": {},
   "source": [
    "***"
   ]
  },
  {
   "cell_type": "markdown",
   "metadata": {},
   "source": [
    "## Procedure\n",
    "\n",
    "Use *6-31G*** basis for all the calculations in this lab.\n",
    "\n",
    "\n"
   ]
  },
  {
   "cell_type": "markdown",
   "metadata": {},
   "source": [
    "We want to produce a binding energy curve for different levels of theory. \n",
    "The binding energy is given b:\n",
    "\n",
    "$$ E_{bind} = E(H_2) - 2E(H)  $$\n",
    "\n",
    "Where we have a different binding energy for each separation between the hydrogen atoms. It should be clear that the second term on the RHS is constant:\n",
    "#### 0. calculate the energy of a single H atom (change the multiplicity value accordingly) with RHF, UHF, PBE and CCSD methods in the sabe basis set. Explain what will be the energy of HF and FCI methods. \n"
   ]
  },
  {
   "cell_type": "code",
   "execution_count": null,
   "metadata": {},
   "outputs": [],
   "source": [
    "#RESPONSE"
   ]
  },
  {
   "cell_type": "markdown",
   "metadata": {},
   "source": [
    "In order to construct a  $H_2$ potential energy surface. (For a molecule with one degree of freedom this is just a curve).\n",
    "You need to run a series of calculations ad different H-H separations (in Angstroms) e.g:\n",
    "\n",
    "0.3, 0.4, 0.5, ... ,4.9, 5.0\n",
    "\n",
    "#### 1. Calculate the potential energy sufrace at the *RHF* level (This is the default calculation in Psi4). Store the electronic energies at all calculated points. \n",
    "\n",
    "**Hint** : We can take advantage of the fact that the psi4.geometry takes a string. And in python we are able to easily replace a segment of a string. Look at the following example:"
   ]
  },
  {
   "cell_type": "code",
   "execution_count": null,
   "metadata": {
    "scrolled": false
   },
   "outputs": [],
   "source": [
    "#Remember that you can store your results in a list or dictionary\n",
    "\n",
    "#Define string with psi4.geometry syntax. \n",
    "#Identify what you want to change and use a particular label that you know that won't get repeated. \n",
    "molecule = \"\"\"\n",
    "**atom1** 0.0 0.0 0.0\n",
    "H 0.0 0.0 0.0 \n",
    "\n",
    "symmetry c1\n",
    "units angstrom\n",
    "\"\"\"\n",
    "\n",
    "#Create a list with the things that you want to go through. \n",
    "atoms = [ \"H\", \"He\", \"Li\" ]\n",
    "\n",
    "#Cycle through them. \n",
    "for atom in atoms:\n",
    "    print(molecule.replace(\"**atom1**\", atom))\n",
    "    \n",
    "#Define all of the distances using numpy:\n",
    "distances = np.linspace(0.3, 5.0, 5)\n",
    "print(f\"Distances are: {distances}\")"
   ]
  },
  {
   "cell_type": "code",
   "execution_count": null,
   "metadata": {},
   "outputs": [],
   "source": [
    "psi4.set_options(\"reference\" : 'rhf')\n",
    "\n",
    "#RESPONSE:"
   ]
  },
  {
   "cell_type": "markdown",
   "metadata": {},
   "source": [
    "#### 2. Calculate the same potential energy surface at the UHF level. \n",
    "\n",
    "You can recycle the previous code that you just wrote. Just remember to change the name of your variables. \n",
    "\n",
    "We need to tell Psi4 that we want an UHF calculation. This is done by setting the global option \"reference\" as \"UHF\" as in the next cell. The argument of the function is a dictionary. The extra settings `guess_mix` and `guess` ensure that we get the correct energies for UHF. \n",
    "\n",
    "\n"
   ]
  },
  {
   "cell_type": "code",
   "execution_count": null,
   "metadata": {},
   "outputs": [],
   "source": [
    "psi4.core.clean()\n",
    "psi4.set_options({'reference' : 'uhf', \n",
    "                  'guess_mix' : True, \n",
    "                  'guess' : \"gwh\"})\n",
    "\n",
    "#RESPONSE"
   ]
  },
  {
   "cell_type": "markdown",
   "metadata": {},
   "source": [
    "#### 3. Calculate the same potential energy surface at the DFT level. Use the PBE functional and a restricted wavefunction.  "
   ]
  },
  {
   "cell_type": "code",
   "execution_count": null,
   "metadata": {},
   "outputs": [],
   "source": [
    "psi4.core.clean()\n",
    "psi4.set_options({'reference' : 'RKS'})\n",
    "\n",
    "\n",
    "#RESPONSE"
   ]
  },
  {
   "cell_type": "markdown",
   "metadata": {},
   "source": [
    "#### 4. Calculate the same potential energy surface at the FCI level. For a two-electron system, the FCI results may be obtained by using the CCSD method (details on this technique will come in due at a time). \n",
    "\n",
    "* You will need to save the output file for the next question. Remember that you can get access to it with ```psi4.core.set_output_file(\"filename.txt\")```\n",
    " "
   ]
  },
  {
   "cell_type": "code",
   "execution_count": null,
   "metadata": {},
   "outputs": [],
   "source": [
    "psi4.core.clean()\n",
    "psi4.set_options({\"reference\":\"uhf\"})\n",
    "\n",
    "#RESPONSE"
   ]
  },
  {
   "cell_type": "markdown",
   "metadata": {},
   "source": [
    "Consider T as a sum of operators that that act on a reference determinant. In CCSD $T = T_1 + T_2$ where $T_1$ refers with single excitations and $T_2$ with double excitations. \n",
    "\n",
    "Notation for output:\n",
    "\n",
    "| Occupied Molecular Orbitals | Virtual Molecular Orbitals |\n",
    "|-----------------------------|----------------------------|\n",
    "|i,j,I,J                      |a,b,A,B                     |\n",
    "\n",
    "And the upper/lower case letters indicate spin (upper->alpha, lower->beta)\n",
    "\n",
    "From the output file, record the largest amplitudes at the end of the file. The integers accompanying the amplitude refer to the orbitals as given in the previous table. "
   ]
  },
  {
   "cell_type": "code",
   "execution_count": null,
   "metadata": {},
   "outputs": [],
   "source": [
    "#RESPONSE"
   ]
  },
  {
   "cell_type": "markdown",
   "metadata": {},
   "source": [
    "The values of amplitudes show a relative weight of singly and doubly excited determinants in the wavefunction. If $T_1$ and/or $T_2$ are large(generally speaking, if $T_2>0.1$), the wavefunction is considered to be multi-configurational (i.e., containing several important Slater determinants). In other words, this is a region where non-dynamic (static) correlation is significant. Several small $T_1$ and $T_2$ amplitudes tell about (almost always present) dynamic correlation.\n"
   ]
  },
  {
   "cell_type": "markdown",
   "metadata": {},
   "source": [
    "#### 6. Plot on the same graph the RHF, DFT and FCI binding energies in $H_2$ versus the separation distance. Use kcal/mol energy units (1 Hartree = 627.5 kcal/mol)"
   ]
  },
  {
   "cell_type": "code",
   "execution_count": null,
   "metadata": {},
   "outputs": [],
   "source": [
    "#RESPONSE"
   ]
  },
  {
   "cell_type": "markdown",
   "metadata": {},
   "source": [
    "#### 7. Comment on the behaviour of RHF with respect to FCI at short (around 0.7 Angstroms) and long distances. If you want more information, you can read paragraph 3.8.7 from Szabo and Ostlund book for a discussion of RHF and UHF solutions. "
   ]
  },
  {
   "cell_type": "code",
   "execution_count": null,
   "metadata": {},
   "outputs": [],
   "source": [
    "#RESPONSE"
   ]
  },
  {
   "cell_type": "markdown",
   "metadata": {},
   "source": [
    "#### 8. Plot the first two $H_2$ moleccular orbitals from your HF and FCI calculations at equillibrium , 1.3 and 5.0 Angstroms. Comment on qualitative changes in the shape of the orbitals. Attach your images to your files. "
   ]
  },
  {
   "cell_type": "code",
   "execution_count": null,
   "metadata": {},
   "outputs": [],
   "source": [
    "#RESPONSE"
   ]
  },
  {
   "cell_type": "markdown",
   "metadata": {},
   "source": [
    "#### 9. Difference between FCI and HF energies is the correlation energy. What is the nature of the correlation energy (dynamic vs non-dynamic) in $H_2$ at equillibrium and long distances? at what distance the non-dynamic correlation become imoprtant?"
   ]
  },
  {
   "cell_type": "code",
   "execution_count": null,
   "metadata": {},
   "outputs": [],
   "source": [
    "#RESPONSE"
   ]
  },
  {
   "cell_type": "markdown",
   "metadata": {},
   "source": [
    "#### 10. Comment on the behaviour of DFT at equilibrium and long distances. What is the reason of DFT failure for bond-breaking. "
   ]
  },
  {
   "cell_type": "code",
   "execution_count": null,
   "metadata": {},
   "outputs": [],
   "source": [
    "#RESPONSE"
   ]
  },
  {
   "cell_type": "markdown",
   "metadata": {},
   "source": [
    "#### Bonus question. Try computing the energy of a Hydrogen atom with the hybrid B3LYP functional. Compare the energy of the atom computed with HF, B3LYP and the exact energy. Do you see any discrepancy with B3LYP? If so, what is/are the reasons for such discrepancies?"
   ]
  },
  {
   "cell_type": "code",
   "execution_count": null,
   "metadata": {},
   "outputs": [],
   "source": [
    "#RESPONSE"
   ]
  },
  {
   "cell_type": "markdown",
   "metadata": {},
   "source": [
    "***"
   ]
  },
  {
   "cell_type": "markdown",
   "metadata": {},
   "source": [
    "## Part B"
   ]
  },
  {
   "cell_type": "markdown",
   "metadata": {},
   "source": [
    "Your friend, who is an experimental chemist, seeks your help knowing that you have expertise in running quantum chemistry simulations. Their research group has measurd the singlet-triplet gap of ozone recently. They want to see if computational simulations can support their measurement. How will you measure the singlet-triplet gap in ozone?"
   ]
  },
  {
   "cell_type": "markdown",
   "metadata": {},
   "source": [
    "Use the ideas from the previous part of this lab and the follwoing hints:\n",
    "    \n",
    "\n",
    "   1. Assume that the singlet and triplet ozone molecules have the same geometry. \n",
    "   2. You will have to optimize the geometry of ozone to start with. Alternately, you can grab the optimized geometry of $O_3$ from CCCBDB. \n",
    "   3. Use RHF/6-31G* for simulating the singlet ozone molecule. Use UHF/6-31G* for simulating the triplet ozone molecule. Use the energy difference to compute the gap. \n",
    "   4. Write the electronic energies corresponding to singlet and triplet ozone molecules. the singlet-triplet gap in eV, and the $<S^2>$ value for triplet ozone.\n",
    "    \n",
    "   \n",
    "    "
   ]
  },
  {
   "cell_type": "code",
   "execution_count": null,
   "metadata": {},
   "outputs": [],
   "source": [
    "#RESPONSE"
   ]
  },
  {
   "cell_type": "markdown",
   "metadata": {},
   "source": [
    "Now, compute the singlet-triplet gap (between the $^1\\Delta_g$ and $^3\\Sigma_g ^-$ states) of oxygen molecule and report it in eV. Compare the singlet-triplet gap you computed in this lab with the ones availiable in CCBDB. Is it an exact match (http://cccbdb.nist.gov/stgap1.asp)?\n",
    "\n",
    "\n",
    "<img src=\"./ozone.png\">"
   ]
  },
  {
   "cell_type": "markdown",
   "metadata": {},
   "source": [
    "Information about spin contamination is given by $<S^2>$ and can be found close to the end of your calculation (look for Spin Contamination Metric). Compare the expected $<S^2>$ with observed $<S^2>$ and respond:\n",
    "Of all the four cases you have computed so far, which one suffers the most spin contamination?\n"
   ]
  },
  {
   "cell_type": "code",
   "execution_count": null,
   "metadata": {},
   "outputs": [],
   "source": [
    "#RESPONSE"
   ]
  },
  {
   "cell_type": "markdown",
   "metadata": {},
   "source": [
    "Bonus. Compute the singlet-triplet gap between $^1\\Sigma_g ^+$ and $^3\\Sigma_g ^-$ states of oxygen atom.  \n",
    "\n",
    "**Hint**: Start with $^1 \\Delta_g$ geometry. Use the maximum overlap method (MOM) to force the highest beta electron to occupy the second $\\pi^*$ ortibal `psi4.set_options({\"mom_start\" : 1})`\n",
    "\n",
    "For example: http://www.q-chem.com/qchem-website/manual/qchem50_manual/sect-mom.html)"
   ]
  },
  {
   "cell_type": "code",
   "execution_count": null,
   "metadata": {},
   "outputs": [],
   "source": [
    "#RESPONSE"
   ]
  }
 ],
 "metadata": {
  "kernelspec": {
   "display_name": "Python 3",
   "language": "python",
   "name": "python3"
  },
  "language_info": {
   "codemirror_mode": {
    "name": "ipython",
    "version": 3
   },
   "file_extension": ".py",
   "mimetype": "text/x-python",
   "name": "python",
   "nbconvert_exporter": "python",
   "pygments_lexer": "ipython3",
   "version": "3.7.3"
  },
  "varInspector": {
   "cols": {
    "lenName": 16,
    "lenType": 16,
    "lenVar": 40
   },
   "kernels_config": {
    "python": {
     "delete_cmd_postfix": "",
     "delete_cmd_prefix": "del ",
     "library": "var_list.py",
     "varRefreshCmd": "print(var_dic_list())"
    },
    "r": {
     "delete_cmd_postfix": ") ",
     "delete_cmd_prefix": "rm(",
     "library": "var_list.r",
     "varRefreshCmd": "cat(var_dic_list()) "
    }
   },
   "types_to_exclude": [
    "module",
    "function",
    "builtin_function_or_method",
    "instance",
    "_Feature"
   ],
   "window_display": false
  }
 },
 "nbformat": 4,
 "nbformat_minor": 2
}
